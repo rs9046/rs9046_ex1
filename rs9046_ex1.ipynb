{
  "nbformat": 4,
  "nbformat_minor": 0,
  "metadata": {
    "colab": {
      "provenance": []
    },
    "kernelspec": {
      "name": "python3",
      "display_name": "Python 3"
    },
    "language_info": {
      "name": "python"
    }
  },
  "cells": [
    {
      "cell_type": "code",
      "execution_count": null,
      "metadata": {
        "id": "rkNgiSFOiu6Z"
      },
      "outputs": [],
      "source": [
        "# Write a function that takes two lists representing sets (with no duplicates) which returns a list of the intersection.\n",
        "# (use only loops and sequence indexing with no method calls except append).\n",
        "# Use a nested loop in your implementation. Test on the list A = [2, 4, 5, 6] and B = [4, 6, 7, 8].\n",
        "#"
      ]
    },
    {
      "cell_type": "code",
      "source": [
        "def intersection(a, b):\n",
        "    result = []\n",
        "\n",
        "    for alist in A:\n",
        "        for blist in B:\n",
        "            if alist == blist:\n",
        "                result.append(alist)\n",
        "\n",
        "    return result"
      ],
      "metadata": {
        "id": "3Hqs9dhXix6J"
      },
      "execution_count": 4,
      "outputs": []
    },
    {
      "cell_type": "code",
      "source": [
        "a = [2, 4, 5, 6]\n",
        "b = [4, 6, 7, 8]\n",
        "\n",
        "result = intersection(a, b)\n",
        "print(\"Intersection:\", result)"
      ],
      "metadata": {
        "colab": {
          "base_uri": "https://localhost:8080/"
        },
        "id": "yPlDk0Ezi7EN",
        "outputId": "083a1e90-d381-4265-bee8-1a1e1788aa84"
      },
      "execution_count": 5,
      "outputs": [
        {
          "output_type": "stream",
          "name": "stdout",
          "text": [
            "Intersection: [4, 6]\n"
          ]
        }
      ]
    }
  ]
}